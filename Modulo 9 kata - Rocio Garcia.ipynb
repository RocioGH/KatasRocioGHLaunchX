{
 "cells": [
  {
   "cell_type": "markdown",
   "metadata": {},
   "source": [
    "# Módulo 9\n",
    "\n",
    "Ejercicio 1"
   ]
  },
  {
   "cell_type": "code",
   "execution_count": 3,
   "metadata": {},
   "outputs": [],
   "source": [
    "def tanques(*args):\n",
    "    num_args = 0\n",
    "    for arg in args:\n",
    "        num_args += 1\n",
    "    tot_tanques = sum(args)\n",
    "    prom = tot_tanques / num_args\n",
    "    return prom"
   ]
  },
  {
   "cell_type": "code",
   "execution_count": 4,
   "metadata": {},
   "outputs": [
    {
     "name": "stdout",
     "output_type": "stream",
     "text": [
      "400.0\n"
     ]
    }
   ],
   "source": [
    "print(tanques(300, 500, 400))"
   ]
  },
  {
   "cell_type": "markdown",
   "metadata": {},
   "source": [
    "Separar la funcion promedio"
   ]
  },
  {
   "cell_type": "code",
   "execution_count": 6,
   "metadata": {},
   "outputs": [],
   "source": [
    "def tanks(contuno, contdos, conttres):\n",
    "    tot = contuno + contdos + conttres\n",
    "    return tot"
   ]
  },
  {
   "cell_type": "code",
   "execution_count": 7,
   "metadata": {},
   "outputs": [],
   "source": [
    "def prome(comb1, comb2, comb3):\n",
    "    promedio = tanks(comb1, comb2, comb3 ) / 3\n",
    "    return promedio"
   ]
  },
  {
   "cell_type": "code",
   "execution_count": 8,
   "metadata": {},
   "outputs": [
    {
     "name": "stdout",
     "output_type": "stream",
     "text": [
      "400.0\n"
     ]
    }
   ],
   "source": [
    "print(prome(400, 500, 300))"
   ]
  },
  {
   "cell_type": "markdown",
   "metadata": {},
   "source": [
    "Ejercicio 2"
   ]
  },
  {
   "cell_type": "code",
   "execution_count": 12,
   "metadata": {},
   "outputs": [
    {
     "name": "stdout",
     "output_type": "stream",
     "text": [
      "Hora de prelanzamiento: 10\n",
      "    Tiempo de vuelo: 15\n",
      "    Destino: Júpiter\n",
      "    Tanque externo: 45\n",
      "    Tanque interno: 45\n"
     ]
    }
   ],
   "source": [
    "def informe(hora_pre, tiempo_vuelo, dest, tanque_ex, tanque_int):\n",
    "    return f\"\"\"Hora de prelanzamiento: {hora_pre}\n",
    "    Tiempo de vuelo: {tiempo_vuelo}\n",
    "    Destino: {dest}\n",
    "    Tanque externo: {tanque_ex}\n",
    "    Tanque interno: {tanque_int}\"\"\"\n",
    "print(informe(10, 15, 'Júpiter', 45, 45))"
   ]
  },
  {
   "cell_type": "code",
   "execution_count": 15,
   "metadata": {},
   "outputs": [
    {
     "name": "stdout",
     "output_type": "stream",
     "text": [
      "Hora de prelanzamiento: 10\n",
      "    Destino: Júpiter\n",
      "    Total minutos: 155 \n",
      "    Total combustible: 1200\n"
     ]
    }
   ],
   "source": [
    "def informedos(hora_prelan, destino, *minutes, **fuel_reservoirs):\n",
    "    total_min = sum(minutes)\n",
    "    total_res = sum(fuel_reservoirs.values())\n",
    "    return f\"\"\"Hora de prelanzamiento: {hora_prelan}\n",
    "    Destino: {destino}\n",
    "    Total minutos: {total_min} \n",
    "    Total combustible: {total_res}\"\"\"\n",
    "print(informedos(10, 'Júpiter', 51, 49, 22, 33, ext=300, int=500, med=400))"
   ]
  }
 ],
 "metadata": {
  "interpreter": {
   "hash": "b89b5cfaba6639976dc87ff2fec6d58faec662063367e2c229c520fe71072417"
  },
  "kernelspec": {
   "display_name": "Python 3.10.2 64-bit",
   "language": "python",
   "name": "python3"
  },
  "language_info": {
   "codemirror_mode": {
    "name": "ipython",
    "version": 3
   },
   "file_extension": ".py",
   "mimetype": "text/x-python",
   "name": "python",
   "nbconvert_exporter": "python",
   "pygments_lexer": "ipython3",
   "version": "3.10.2"
  },
  "orig_nbformat": 4
 },
 "nbformat": 4,
 "nbformat_minor": 2
}
