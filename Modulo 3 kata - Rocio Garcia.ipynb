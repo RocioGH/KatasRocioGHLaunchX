{
 "cells": [
  {
   "cell_type": "markdown",
   "metadata": {},
   "source": [
    "# Módulo 3\n",
    "\n",
    "Ejercicio 1"
   ]
  },
  {
   "cell_type": "code",
   "execution_count": 3,
   "metadata": {},
   "outputs": [
    {
     "name": "stdout",
     "output_type": "stream",
     "text": [
      "Advertencia!! un asteroide se acerca a la tierra\n"
     ]
    }
   ],
   "source": [
    "veloc_aster = 26\n",
    "if veloc_aster > 25:\n",
    "    print(\"Advertencia!! un asteroide se acerca a la tierra\")"
   ]
  },
  {
   "cell_type": "markdown",
   "metadata": {},
   "source": [
    "Ejercicio 2"
   ]
  },
  {
   "cell_type": "code",
   "execution_count": 7,
   "metadata": {},
   "outputs": [
    {
     "name": "stdout",
     "output_type": "stream",
     "text": [
      "Mira al cielo y veras un rayo de luz\n"
     ]
    }
   ],
   "source": [
    "veloc_aster = 49\n",
    "if veloc_aster > 20:\n",
    "    print(\"Mira al cielo y veras un rayo de luz\")\n",
    "elif veloc_aster == 20:\n",
    "    print(\"Mira al cielo, probablemente puedas ver un rayo de luz\")\n",
    "else:\n",
    "    print(\"No hay nada que ver en el cielo\")"
   ]
  },
  {
   "cell_type": "markdown",
   "metadata": {},
   "source": [
    "Ejercicio 3"
   ]
  },
  {
   "cell_type": "code",
   "execution_count": 17,
   "metadata": {},
   "outputs": [
    {
     "name": "stdout",
     "output_type": "stream",
     "text": [
      "No hay novedad en el cielo\n"
     ]
    }
   ],
   "source": [
    "aster_tam = 24\n",
    "aster_veloc = 10\n",
    "if aster_tam < 1000 and aster_tam > 25:\n",
    "    if aster_veloc > 25:\n",
    "        print(\"Advertencia, se acerca un asteroide peligroso a la tierra\")\n",
    "    else:\n",
    "        print(\"Alerta!! se acerca un asteroide a la tierra\")    \n",
    "elif aster_tam <= 25:\n",
    "    if aster_veloc > 25:\n",
    "        print(\"Alarma!! se acerca un asteroide a la tierra\") \n",
    "    elif aster_veloc <= 25 and aster_veloc >= 20:\n",
    "        print(\"Mira al cielo y podrás ver un rayo de luz\")\n",
    "    else:\n",
    "        print(\"No hay novedad en el cielo\")\n",
    "\n"
   ]
  },
  {
   "cell_type": "markdown",
   "metadata": {},
   "source": []
  }
 ],
 "metadata": {
  "interpreter": {
   "hash": "b89b5cfaba6639976dc87ff2fec6d58faec662063367e2c229c520fe71072417"
  },
  "kernelspec": {
   "display_name": "Python 3.10.2 64-bit",
   "language": "python",
   "name": "python3"
  },
  "language_info": {
   "codemirror_mode": {
    "name": "ipython",
    "version": 3
   },
   "file_extension": ".py",
   "mimetype": "text/x-python",
   "name": "python",
   "nbconvert_exporter": "python",
   "pygments_lexer": "ipython3",
   "version": "3.10.2"
  },
  "orig_nbformat": 4
 },
 "nbformat": 4,
 "nbformat_minor": 2
}
