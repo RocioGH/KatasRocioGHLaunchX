{
 "cells": [
  {
   "cell_type": "markdown",
   "metadata": {},
   "source": [
    "# Módulo 5\n",
    "\n",
    "Ejercicio 1"
   ]
  },
  {
   "cell_type": "code",
   "execution_count": 8,
   "metadata": {},
   "outputs": [],
   "source": [
    "tierra = 149597870 #km \n",
    "jupiter = 778547200 #km"
   ]
  },
  {
   "cell_type": "code",
   "execution_count": 11,
   "metadata": {},
   "outputs": [],
   "source": [
    "distancia = jupiter - tierra\n",
    "distancia_mill = (jupiter - tierra) * 0.621"
   ]
  },
  {
   "cell_type": "code",
   "execution_count": 12,
   "metadata": {},
   "outputs": [
    {
     "name": "stdout",
     "output_type": "stream",
     "text": [
      "628949330\n",
      "390577534\n"
     ]
    }
   ],
   "source": [
    "print(int(distancia))\n",
    "print(round(float(distancia_mill)))"
   ]
  },
  {
   "cell_type": "markdown",
   "metadata": {},
   "source": [
    "Ejercicio 2"
   ]
  },
  {
   "cell_type": "code",
   "execution_count": 32,
   "metadata": {},
   "outputs": [
    {
     "name": "stdout",
     "output_type": "stream",
     "text": [
      "Cálculo de distancias entre dos planetas\n",
      "Planeta UNO: 149600000\n",
      "Planeta DOS: 4495100000\n"
     ]
    }
   ],
   "source": [
    "print('Cálculo de distancias entre dos planetas')\n",
    "planeta_uno = input('Ingrese la distancia del planeta UNO al Sol: ')\n",
    "planeta_dos = input('Ingrese la distancia del planeta DOS al Sol: ')\n",
    "print('Planeta UNO: ' + planeta_uno)\n",
    "print('Planeta DOS: ' + planeta_dos)"
   ]
  },
  {
   "cell_type": "code",
   "execution_count": 33,
   "metadata": {},
   "outputs": [],
   "source": [
    "p_uno = int(planeta_uno)\n",
    "p_dos = int(planeta_dos)"
   ]
  },
  {
   "cell_type": "code",
   "execution_count": 34,
   "metadata": {},
   "outputs": [
    {
     "name": "stdout",
     "output_type": "stream",
     "text": [
      "La distancia entre planeta UNO y planeta DOS es: 4345500000 kms\n",
      "4345500000 km en millas es: 2698555500.0\n"
     ]
    }
   ],
   "source": [
    "valor_abs = abs(p_uno - p_dos)\n",
    "valor_mill = valor_abs * 0.621\n",
    "print('La distancia entre planeta UNO y planeta DOS es: ' + str(valor_abs) + ' kms')\n",
    "print(str(valor_abs) + ' km en millas es: ' + str(valor_mill))"
   ]
  }
 ],
 "metadata": {
  "interpreter": {
   "hash": "b89b5cfaba6639976dc87ff2fec6d58faec662063367e2c229c520fe71072417"
  },
  "kernelspec": {
   "display_name": "Python 3.10.2 64-bit",
   "language": "python",
   "name": "python3"
  },
  "language_info": {
   "codemirror_mode": {
    "name": "ipython",
    "version": 3
   },
   "file_extension": ".py",
   "mimetype": "text/x-python",
   "name": "python",
   "nbconvert_exporter": "python",
   "pygments_lexer": "ipython3",
   "version": "3.10.2"
  },
  "orig_nbformat": 4
 },
 "nbformat": 4,
 "nbformat_minor": 2
}
