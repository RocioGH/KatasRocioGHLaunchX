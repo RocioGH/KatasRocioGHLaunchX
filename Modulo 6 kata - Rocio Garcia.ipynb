{
 "cells": [
  {
   "cell_type": "markdown",
   "metadata": {},
   "source": [
    "# Módulo 6\n",
    "\n",
    "Ejercicio 1"
   ]
  },
  {
   "cell_type": "code",
   "execution_count": 4,
   "metadata": {},
   "outputs": [
    {
     "name": "stdout",
     "output_type": "stream",
     "text": [
      "Hay 8 planetas en el Sistema Solar\n"
     ]
    }
   ],
   "source": [
    "planets = ['Mercurio', 'Venus', 'Tierrra', 'Marte', 'Júpiter', 'Saturno', 'Urano', 'Neptuno']\n",
    "num_planets = len(planets)\n",
    "print('Hay ' + str(num_planets) + ' planetas en el Sistema Solar')"
   ]
  },
  {
   "cell_type": "code",
   "execution_count": 5,
   "metadata": {},
   "outputs": [
    {
     "name": "stdout",
     "output_type": "stream",
     "text": [
      "Ahora hay 9 planetas en el Sistema Solar, y el último planeta es: Plutón\n"
     ]
    }
   ],
   "source": [
    "planets.append('Plutón')\n",
    "num_planets = len(planets)\n",
    "print('Ahora hay ' + str(num_planets) + ' planetas en el Sistema Solar, y el último planeta es: ' + planets[-1])\n"
   ]
  },
  {
   "cell_type": "markdown",
   "metadata": {},
   "source": [
    "Ejercicio 2"
   ]
  },
  {
   "cell_type": "code",
   "execution_count": 6,
   "metadata": {},
   "outputs": [],
   "source": [
    "planetas = ['Mercurio', 'Venus', 'Tierrra', 'Marte', 'Júpiter', 'Saturno', 'Urano', 'Neptuno']"
   ]
  },
  {
   "cell_type": "code",
   "execution_count": 7,
   "metadata": {},
   "outputs": [
    {
     "name": "stdout",
     "output_type": "stream",
     "text": [
      "Ingresa el nombre de un planeta del Sistema Solar\n",
      "Marte\n"
     ]
    }
   ],
   "source": [
    "print('Ingresa el nombre de un planeta del Sistema Solar')\n",
    "nom_planeta = input('Recuerda escribir el nombre del planeta empezando por mayúscula')\n",
    "print(nom_planeta)"
   ]
  },
  {
   "cell_type": "code",
   "execution_count": 9,
   "metadata": {},
   "outputs": [
    {
     "name": "stdout",
     "output_type": "stream",
     "text": [
      "Se encontró el planeta Marte en la posición: 4\n"
     ]
    }
   ],
   "source": [
    "posicion = planetas.index(nom_planeta)\n",
    "print('Se encontró el planeta ' + nom_planeta + ' en la posición: ' + str(posicion + 1))"
   ]
  },
  {
   "cell_type": "code",
   "execution_count": 12,
   "metadata": {},
   "outputs": [
    {
     "name": "stdout",
     "output_type": "stream",
     "text": [
      "Los planetas más cercanos al Sol antes de Marte son: \n",
      "['Mercurio', 'Venus', 'Tierrra', 'Marte']\n"
     ]
    }
   ],
   "source": [
    "cerca_sol = planetas[0:4]\n",
    "print('Los planetas más cercanos al Sol antes de ' + nom_planeta + ' son: ')\n",
    "print(cerca_sol)"
   ]
  },
  {
   "cell_type": "code",
   "execution_count": 13,
   "metadata": {},
   "outputs": [
    {
     "name": "stdout",
     "output_type": "stream",
     "text": [
      "Los planetas más alejados del Sol después de Marte son:\n",
      "['Saturno', 'Urano', 'Neptuno']\n"
     ]
    }
   ],
   "source": [
    "lejos_sol = planetas[5:]\n",
    "print('Los planetas más alejados del Sol después de ' + nom_planeta + ' son:')\n",
    "print(lejos_sol)"
   ]
  }
 ],
 "metadata": {
  "interpreter": {
   "hash": "b89b5cfaba6639976dc87ff2fec6d58faec662063367e2c229c520fe71072417"
  },
  "kernelspec": {
   "display_name": "Python 3.10.2 64-bit",
   "language": "python",
   "name": "python3"
  },
  "language_info": {
   "codemirror_mode": {
    "name": "ipython",
    "version": 3
   },
   "file_extension": ".py",
   "mimetype": "text/x-python",
   "name": "python",
   "nbconvert_exporter": "python",
   "pygments_lexer": "ipython3",
   "version": "3.10.2"
  },
  "orig_nbformat": 4
 },
 "nbformat": 4,
 "nbformat_minor": 2
}
